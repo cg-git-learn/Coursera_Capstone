{
    "cells": [
        {
            "cell_type": "markdown",
            "metadata": {
                "collapsed": true
            },
            "source": "# New businesses in Seattle (part 1)"
        },
        {
            "cell_type": "markdown",
            "metadata": {},
            "source": "## Introduction/Business Problem"
        },
        {
            "cell_type": "markdown",
            "metadata": {},
            "source": "###### \nThe scenario here is that a number of new businesses are looking to open in Seattle, Washington.  They wish to know the best locations for their new premises.  The businesses are in the leisure market such as restaurants and cinemas.  \nWe will use the Foursquare API to examine the Neighbourhoods of Seattle to find the best locations for these businesses, based on the existing businesses and services in those areas.  This will allow the busineses to choose a location to open.\nThe target audience here is both existing businesses looking for new locations and new start ups in the locality."
        },
        {
            "cell_type": "markdown",
            "metadata": {},
            "source": "## Data"
        },
        {
            "cell_type": "markdown",
            "metadata": {},
            "source": "###### \nFor this scenario, we need a list of the Neighbourhoods in Seattle.  This can be found on wikipedia here:\nhttps://en.wikipedia.org/wiki/List_of_neighborhoods_in_Seattle.\n\nWe can then use the geocoders packages to get the geographical coordiniates (latitide and longitude) for these areas by searching by address.\nWe will then use the Foursquare API to retrieve recent information about these neighbourhoods so we can examine them and procide the businesses with the best locations to open."
        }
    ],
    "metadata": {
        "kernelspec": {
            "display_name": "Python 3.6",
            "language": "python",
            "name": "python3"
        },
        "language_info": {
            "codemirror_mode": {
                "name": "ipython",
                "version": 3
            },
            "file_extension": ".py",
            "mimetype": "text/x-python",
            "name": "python",
            "nbconvert_exporter": "python",
            "pygments_lexer": "ipython3",
            "version": "3.6.9"
        }
    },
    "nbformat": 4,
    "nbformat_minor": 1
}